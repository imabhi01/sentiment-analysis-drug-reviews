{
 "cells": [
  {
   "cell_type": "code",
   "execution_count": 4,
   "id": "949671b4-b422-4efb-b835-e51cca8ed8b2",
   "metadata": {},
   "outputs": [],
   "source": [
    "import pandas as pd\n",
    "import numpy as np\n",
    "import matplotlib.pyplot as plt\n",
    "from sklearn.model_selection import train_test_split"
   ]
  },
  {
   "cell_type": "code",
   "execution_count": 5,
   "id": "443427e3",
   "metadata": {},
   "outputs": [
    {
     "name": "stdout",
     "output_type": "stream",
     "text": [
      "trainDataset size (161297, 7)\n",
      "testDataset size (53766, 7)\n"
     ]
    }
   ],
   "source": [
    "trainDataset = pd.read_csv(\"drugsComTrain_raw.tsv\", sep = '\\t')\n",
    "testDataset = pd.read_csv(\"drugsComTest_raw.tsv\", sep = '\\t')\n",
    "\n",
    "print('trainDataset size' , trainDataset.shape)\n",
    "print('testDataset size' , testDataset.shape)"
   ]
  },
  {
   "cell_type": "code",
   "execution_count": 6,
   "id": "b95ad20a",
   "metadata": {},
   "outputs": [
    {
     "name": "stdout",
     "output_type": "stream",
     "text": [
      "Final concatenated Dataset  (215063, 7)\n"
     ]
    },
    {
     "data": {
      "text/html": [
       "<div>\n",
       "<style scoped>\n",
       "    .dataframe tbody tr th:only-of-type {\n",
       "        vertical-align: middle;\n",
       "    }\n",
       "\n",
       "    .dataframe tbody tr th {\n",
       "        vertical-align: top;\n",
       "    }\n",
       "\n",
       "    .dataframe thead th {\n",
       "        text-align: right;\n",
       "    }\n",
       "</style>\n",
       "<table border=\"1\" class=\"dataframe\">\n",
       "  <thead>\n",
       "    <tr style=\"text-align: right;\">\n",
       "      <th></th>\n",
       "      <th>Unnamed: 0</th>\n",
       "      <th>drugName</th>\n",
       "      <th>condition</th>\n",
       "      <th>review</th>\n",
       "      <th>rating</th>\n",
       "      <th>date</th>\n",
       "      <th>usefulCount</th>\n",
       "    </tr>\n",
       "  </thead>\n",
       "  <tbody>\n",
       "    <tr>\n",
       "      <th>0</th>\n",
       "      <td>206461</td>\n",
       "      <td>Valsartan</td>\n",
       "      <td>Left Ventricular Dysfunction</td>\n",
       "      <td>\"It has no side effect, I take it in combinati...</td>\n",
       "      <td>9.0</td>\n",
       "      <td>May 20, 2012</td>\n",
       "      <td>27</td>\n",
       "    </tr>\n",
       "    <tr>\n",
       "      <th>1</th>\n",
       "      <td>95260</td>\n",
       "      <td>Guanfacine</td>\n",
       "      <td>ADHD</td>\n",
       "      <td>\"My son is halfway through his fourth week of ...</td>\n",
       "      <td>8.0</td>\n",
       "      <td>April 27, 2010</td>\n",
       "      <td>192</td>\n",
       "    </tr>\n",
       "    <tr>\n",
       "      <th>2</th>\n",
       "      <td>92703</td>\n",
       "      <td>Lybrel</td>\n",
       "      <td>Birth Control</td>\n",
       "      <td>\"I used to take another oral contraceptive, wh...</td>\n",
       "      <td>5.0</td>\n",
       "      <td>December 14, 2009</td>\n",
       "      <td>17</td>\n",
       "    </tr>\n",
       "    <tr>\n",
       "      <th>3</th>\n",
       "      <td>138000</td>\n",
       "      <td>Ortho Evra</td>\n",
       "      <td>Birth Control</td>\n",
       "      <td>\"This is my first time using any form of birth...</td>\n",
       "      <td>8.0</td>\n",
       "      <td>November 3, 2015</td>\n",
       "      <td>10</td>\n",
       "    </tr>\n",
       "    <tr>\n",
       "      <th>4</th>\n",
       "      <td>35696</td>\n",
       "      <td>Buprenorphine / naloxone</td>\n",
       "      <td>Opiate Dependence</td>\n",
       "      <td>\"Suboxone has completely turned my life around...</td>\n",
       "      <td>9.0</td>\n",
       "      <td>November 27, 2016</td>\n",
       "      <td>37</td>\n",
       "    </tr>\n",
       "  </tbody>\n",
       "</table>\n",
       "</div>"
      ],
      "text/plain": [
       "   Unnamed: 0                  drugName                     condition  \\\n",
       "0      206461                 Valsartan  Left Ventricular Dysfunction   \n",
       "1       95260                Guanfacine                          ADHD   \n",
       "2       92703                    Lybrel                 Birth Control   \n",
       "3      138000                Ortho Evra                 Birth Control   \n",
       "4       35696  Buprenorphine / naloxone             Opiate Dependence   \n",
       "\n",
       "                                              review  rating  \\\n",
       "0  \"It has no side effect, I take it in combinati...     9.0   \n",
       "1  \"My son is halfway through his fourth week of ...     8.0   \n",
       "2  \"I used to take another oral contraceptive, wh...     5.0   \n",
       "3  \"This is my first time using any form of birth...     8.0   \n",
       "4  \"Suboxone has completely turned my life around...     9.0   \n",
       "\n",
       "                date  usefulCount  \n",
       "0       May 20, 2012           27  \n",
       "1     April 27, 2010          192  \n",
       "2  December 14, 2009           17  \n",
       "3   November 3, 2015           10  \n",
       "4  November 27, 2016           37  "
      ]
     },
     "execution_count": 6,
     "metadata": {},
     "output_type": "execute_result"
    }
   ],
   "source": [
    "data = pd.concat([trainDataset, testDataset])\n",
    "print('Final concatenated Dataset ', data.shape)\n",
    "data.head()\n"
   ]
  },
  {
   "cell_type": "code",
   "execution_count": 7,
   "id": "92b2d2d6",
   "metadata": {},
   "outputs": [],
   "source": [
    "# !pip install transformers"
   ]
  },
  {
   "cell_type": "code",
   "execution_count": 8,
   "id": "aa3d09a4",
   "metadata": {},
   "outputs": [],
   "source": [
    "# from transformers import pipeline\n",
    "\n",
    "# sent_pipeline = pipeline(\"sentiment-analysis\")"
   ]
  },
  {
   "cell_type": "code",
   "execution_count": 9,
   "id": "e7a22539",
   "metadata": {},
   "outputs": [
    {
     "data": {
      "text/html": [
       "<div>\n",
       "<style scoped>\n",
       "    .dataframe tbody tr th:only-of-type {\n",
       "        vertical-align: middle;\n",
       "    }\n",
       "\n",
       "    .dataframe tbody tr th {\n",
       "        vertical-align: top;\n",
       "    }\n",
       "\n",
       "    .dataframe thead th {\n",
       "        text-align: right;\n",
       "    }\n",
       "</style>\n",
       "<table border=\"1\" class=\"dataframe\">\n",
       "  <thead>\n",
       "    <tr style=\"text-align: right;\">\n",
       "      <th></th>\n",
       "      <th>Id</th>\n",
       "      <th>drugName</th>\n",
       "      <th>condition</th>\n",
       "      <th>review</th>\n",
       "      <th>rating</th>\n",
       "      <th>date</th>\n",
       "      <th>usefulCount</th>\n",
       "    </tr>\n",
       "  </thead>\n",
       "  <tbody>\n",
       "    <tr>\n",
       "      <th>0</th>\n",
       "      <td>206461</td>\n",
       "      <td>Valsartan</td>\n",
       "      <td>Left Ventricular Dysfunction</td>\n",
       "      <td>\"It has no side effect, I take it in combinati...</td>\n",
       "      <td>9.0</td>\n",
       "      <td>May 20, 2012</td>\n",
       "      <td>27</td>\n",
       "    </tr>\n",
       "    <tr>\n",
       "      <th>1</th>\n",
       "      <td>95260</td>\n",
       "      <td>Guanfacine</td>\n",
       "      <td>ADHD</td>\n",
       "      <td>\"My son is halfway through his fourth week of ...</td>\n",
       "      <td>8.0</td>\n",
       "      <td>April 27, 2010</td>\n",
       "      <td>192</td>\n",
       "    </tr>\n",
       "    <tr>\n",
       "      <th>2</th>\n",
       "      <td>92703</td>\n",
       "      <td>Lybrel</td>\n",
       "      <td>Birth Control</td>\n",
       "      <td>\"I used to take another oral contraceptive, wh...</td>\n",
       "      <td>5.0</td>\n",
       "      <td>December 14, 2009</td>\n",
       "      <td>17</td>\n",
       "    </tr>\n",
       "    <tr>\n",
       "      <th>3</th>\n",
       "      <td>138000</td>\n",
       "      <td>Ortho Evra</td>\n",
       "      <td>Birth Control</td>\n",
       "      <td>\"This is my first time using any form of birth...</td>\n",
       "      <td>8.0</td>\n",
       "      <td>November 3, 2015</td>\n",
       "      <td>10</td>\n",
       "    </tr>\n",
       "    <tr>\n",
       "      <th>4</th>\n",
       "      <td>35696</td>\n",
       "      <td>Buprenorphine / naloxone</td>\n",
       "      <td>Opiate Dependence</td>\n",
       "      <td>\"Suboxone has completely turned my life around...</td>\n",
       "      <td>9.0</td>\n",
       "      <td>November 27, 2016</td>\n",
       "      <td>37</td>\n",
       "    </tr>\n",
       "  </tbody>\n",
       "</table>\n",
       "</div>"
      ],
      "text/plain": [
       "       Id                  drugName                     condition  \\\n",
       "0  206461                 Valsartan  Left Ventricular Dysfunction   \n",
       "1   95260                Guanfacine                          ADHD   \n",
       "2   92703                    Lybrel                 Birth Control   \n",
       "3  138000                Ortho Evra                 Birth Control   \n",
       "4   35696  Buprenorphine / naloxone             Opiate Dependence   \n",
       "\n",
       "                                              review  rating  \\\n",
       "0  \"It has no side effect, I take it in combinati...     9.0   \n",
       "1  \"My son is halfway through his fourth week of ...     8.0   \n",
       "2  \"I used to take another oral contraceptive, wh...     5.0   \n",
       "3  \"This is my first time using any form of birth...     8.0   \n",
       "4  \"Suboxone has completely turned my life around...     9.0   \n",
       "\n",
       "                date  usefulCount  \n",
       "0       May 20, 2012           27  \n",
       "1     April 27, 2010          192  \n",
       "2  December 14, 2009           17  \n",
       "3   November 3, 2015           10  \n",
       "4  November 27, 2016           37  "
      ]
     },
     "execution_count": 9,
     "metadata": {},
     "output_type": "execute_result"
    }
   ],
   "source": [
    "data.columns = ['Id', 'drugName', 'condition', 'review', 'rating', 'date', 'usefulCount']\n",
    "data.head()"
   ]
  },
  {
   "cell_type": "code",
   "execution_count": 10,
   "id": "75884c1b",
   "metadata": {},
   "outputs": [
    {
     "data": {
      "text/plain": [
       "(213869, 7)"
      ]
     },
     "execution_count": 10,
     "metadata": {},
     "output_type": "execute_result"
    }
   ],
   "source": [
    "data.isnull().sum()\n",
    "data.dropna(inplace=True)\n",
    "data.isnull().sum()\n",
    "data.shape"
   ]
  },
  {
   "cell_type": "code",
   "execution_count": 11,
   "id": "19840b8b",
   "metadata": {},
   "outputs": [
    {
     "name": "stdout",
     "output_type": "stream",
     "text": [
      "<class 'pandas.core.frame.DataFrame'>\n",
      "Index: 213869 entries, 0 to 53765\n",
      "Data columns (total 7 columns):\n",
      " #   Column       Non-Null Count   Dtype  \n",
      "---  ------       --------------   -----  \n",
      " 0   Id           213869 non-null  int64  \n",
      " 1   drugName     213869 non-null  object \n",
      " 2   condition    213869 non-null  object \n",
      " 3   review       213869 non-null  object \n",
      " 4   rating       213869 non-null  float64\n",
      " 5   date         213869 non-null  object \n",
      " 6   usefulCount  213869 non-null  int64  \n",
      "dtypes: float64(1), int64(2), object(4)\n",
      "memory usage: 13.1+ MB\n"
     ]
    }
   ],
   "source": [
    "data.info()"
   ]
  },
  {
   "cell_type": "code",
   "execution_count": 12,
   "id": "90e32ae1",
   "metadata": {},
   "outputs": [
    {
     "data": {
      "text/plain": [
       "213869"
      ]
     },
     "execution_count": 12,
     "metadata": {},
     "output_type": "execute_result"
    }
   ],
   "source": [
    "data['Id'].nunique()"
   ]
  },
  {
   "cell_type": "code",
   "execution_count": 13,
   "id": "2daa45bb",
   "metadata": {},
   "outputs": [
    {
     "data": {
      "text/plain": [
       "1    \"My son is halfway through his fourth week of ...\n",
       "1    \"My son has Crohn&#039;s disease and has done ...\n",
       "Name: review, dtype: object"
      ]
     },
     "execution_count": 13,
     "metadata": {},
     "output_type": "execute_result"
    }
   ],
   "source": [
    "data['review'][1]"
   ]
  },
  {
   "cell_type": "code",
   "execution_count": 14,
   "id": "48447ff9",
   "metadata": {},
   "outputs": [
    {
     "data": {
      "text/plain": [
       "rating\n",
       "10.0    67682\n",
       "9.0     36499\n",
       "1.0     28769\n",
       "8.0     24909\n",
       "7.0     12470\n",
       "5.0     10650\n",
       "2.0      9203\n",
       "3.0      8662\n",
       "6.0      8403\n",
       "4.0      6622\n",
       "Name: count, dtype: int64"
      ]
     },
     "execution_count": 14,
     "metadata": {},
     "output_type": "execute_result"
    }
   ],
   "source": [
    "data['rating'].value_counts()"
   ]
  },
  {
   "cell_type": "markdown",
   "id": "698a4816",
   "metadata": {},
   "source": [
    "# Review Counts based on ratings"
   ]
  },
  {
   "cell_type": "code",
   "execution_count": 15,
   "id": "8101978b",
   "metadata": {},
   "outputs": [
    {
     "data": {
      "image/png": "[encoded data removed]",
      "text/plain": [
       "<Figure size 1500x300 with 1 Axes>"
      ]
     },
     "metadata": {},
     "output_type": "display_data"
    }
   ],
   "source": [
    "ax = data['rating'].value_counts().sort_index() \\\n",
    "    .plot(\n",
    "        kind='bar', \n",
    "        title=\"Review counts based on rating\",\n",
    "        figsize=((15, 3))\n",
    "    )\n",
    "ax.set_xlabel('Ratings')\n",
    "plt.show()"
   ]
  },
  {
   "cell_type": "code",
   "execution_count": 16,
   "id": "f39dc08f",
   "metadata": {},
   "outputs": [
    {
     "name": "stdout",
     "output_type": "stream",
     "text": [
      "141560 46634 19053\n"
     ]
    }
   ],
   "source": [
    "totalSentimentCounts = {}\n",
    "\n",
    "totalSentimentCounts['Negative'] = len(data[data['rating'] < 4])\n",
    "totalSentimentCounts['Neutral'] = len(data[(data['rating'] >= 5) & (data['rating'] < 7) ])\n",
    "totalSentimentCounts['Positive'] = len(data[data['rating'] >= 7.0])\n",
    "\n",
    "print(totalSentimentCounts['Positive'], totalSentimentCounts['Negative'], totalSentimentCounts['Neutral'])"
   ]
  },
  {
   "cell_type": "code",
   "execution_count": 17,
   "id": "6d2da789",
   "metadata": {},
   "outputs": [
    {
     "data": {
      "image/png": "[encoded data removed]",
      "text/plain": [
       "<Figure size 1000x500 with 1 Axes>"
      ]
     },
     "metadata": {},
     "output_type": "display_data"
    }
   ],
   "source": [
    "labels = list(totalSentimentCounts.keys())\n",
    "values = list(totalSentimentCounts.values())\n",
    " \n",
    "fig = plt.figure(figsize = (10, 5))\n",
    "\n",
    "# creating the bar plot\n",
    "plt.bar(labels, values, width = 0.3)\n",
    "plt.title(\"Rating Sentiment Counts\")\n",
    "plt.xlabel(\"Type of sentiment\")\n",
    "plt.show()"
   ]
  },
  {
   "cell_type": "code",
   "execution_count": 18,
   "id": "4ed4dbbe",
   "metadata": {},
   "outputs": [
    {
     "data": {
      "text/html": [
       "<div>\n",
       "<style scoped>\n",
       "    .dataframe tbody tr th:only-of-type {\n",
       "        vertical-align: middle;\n",
       "    }\n",
       "\n",
       "    .dataframe tbody tr th {\n",
       "        vertical-align: top;\n",
       "    }\n",
       "\n",
       "    .dataframe thead th {\n",
       "        text-align: right;\n",
       "    }\n",
       "</style>\n",
       "<table border=\"1\" class=\"dataframe\">\n",
       "  <thead>\n",
       "    <tr style=\"text-align: right;\">\n",
       "      <th></th>\n",
       "      <th>Id</th>\n",
       "      <th>drugName</th>\n",
       "      <th>condition</th>\n",
       "      <th>review</th>\n",
       "      <th>rating</th>\n",
       "      <th>date</th>\n",
       "      <th>usefulCount</th>\n",
       "      <th>ratingSentimentLabel</th>\n",
       "    </tr>\n",
       "  </thead>\n",
       "  <tbody>\n",
       "    <tr>\n",
       "      <th>0</th>\n",
       "      <td>206461</td>\n",
       "      <td>Valsartan</td>\n",
       "      <td>Left Ventricular Dysfunction</td>\n",
       "      <td>\"It has no side effect, I take it in combinati...</td>\n",
       "      <td>9.0</td>\n",
       "      <td>May 20, 2012</td>\n",
       "      <td>27</td>\n",
       "      <td>positive</td>\n",
       "    </tr>\n",
       "    <tr>\n",
       "      <th>1</th>\n",
       "      <td>95260</td>\n",
       "      <td>Guanfacine</td>\n",
       "      <td>ADHD</td>\n",
       "      <td>\"My son is halfway through his fourth week of ...</td>\n",
       "      <td>8.0</td>\n",
       "      <td>April 27, 2010</td>\n",
       "      <td>192</td>\n",
       "      <td>positive</td>\n",
       "    </tr>\n",
       "    <tr>\n",
       "      <th>2</th>\n",
       "      <td>92703</td>\n",
       "      <td>Lybrel</td>\n",
       "      <td>Birth Control</td>\n",
       "      <td>\"I used to take another oral contraceptive, wh...</td>\n",
       "      <td>5.0</td>\n",
       "      <td>December 14, 2009</td>\n",
       "      <td>17</td>\n",
       "      <td>neutral</td>\n",
       "    </tr>\n",
       "    <tr>\n",
       "      <th>3</th>\n",
       "      <td>138000</td>\n",
       "      <td>Ortho Evra</td>\n",
       "      <td>Birth Control</td>\n",
       "      <td>\"This is my first time using any form of birth...</td>\n",
       "      <td>8.0</td>\n",
       "      <td>November 3, 2015</td>\n",
       "      <td>10</td>\n",
       "      <td>positive</td>\n",
       "    </tr>\n",
       "    <tr>\n",
       "      <th>4</th>\n",
       "      <td>35696</td>\n",
       "      <td>Buprenorphine / naloxone</td>\n",
       "      <td>Opiate Dependence</td>\n",
       "      <td>\"Suboxone has completely turned my life around...</td>\n",
       "      <td>9.0</td>\n",
       "      <td>November 27, 2016</td>\n",
       "      <td>37</td>\n",
       "      <td>positive</td>\n",
       "    </tr>\n",
       "  </tbody>\n",
       "</table>\n",
       "</div>"
      ],
      "text/plain": [
       "       Id                  drugName                     condition  \\\n",
       "0  206461                 Valsartan  Left Ventricular Dysfunction   \n",
       "1   95260                Guanfacine                          ADHD   \n",
       "2   92703                    Lybrel                 Birth Control   \n",
       "3  138000                Ortho Evra                 Birth Control   \n",
       "4   35696  Buprenorphine / naloxone             Opiate Dependence   \n",
       "\n",
       "                                              review  rating  \\\n",
       "0  \"It has no side effect, I take it in combinati...     9.0   \n",
       "1  \"My son is halfway through his fourth week of ...     8.0   \n",
       "2  \"I used to take another oral contraceptive, wh...     5.0   \n",
       "3  \"This is my first time using any form of birth...     8.0   \n",
       "4  \"Suboxone has completely turned my life around...     9.0   \n",
       "\n",
       "                date  usefulCount ratingSentimentLabel  \n",
       "0       May 20, 2012           27             positive  \n",
       "1     April 27, 2010          192             positive  \n",
       "2  December 14, 2009           17              neutral  \n",
       "3   November 3, 2015           10             positive  \n",
       "4  November 27, 2016           37             positive  "
      ]
     },
     "execution_count": 18,
     "metadata": {},
     "output_type": "execute_result"
    }
   ],
   "source": [
    "data.loc[data['rating'] >= 7.0,\"ratingSentimentLabel\"] =\"positive\"\n",
    "data.loc[(data['rating'] >= 4.0) & (data['rating']<7.0),\"ratingSentimentLabel\"]= \"neutral\"\n",
    "data.loc[data['rating']<= 3.0,\"ratingSentimentLabel\"] = \"negative\"\n",
    "\n",
    "data.head()"
   ]
  },
  {
   "cell_type": "code",
   "execution_count": 20,
   "id": "9ff64ace",
   "metadata": {},
   "outputs": [
    {
     "data": {
      "text/plain": [
       "['i',\n",
       " 'me',\n",
       " 'my',\n",
       " 'myself',\n",
       " 'we',\n",
       " 'our',\n",
       " 'ours',\n",
       " 'ourselves',\n",
       " 'you',\n",
       " \"you're\",\n",
       " \"you've\",\n",
       " \"you'll\",\n",
       " \"you'd\",\n",
       " 'your',\n",
       " 'yours',\n",
       " 'yourself',\n",
       " 'yourselves',\n",
       " 'he',\n",
       " 'him',\n",
       " 'his',\n",
       " 'himself',\n",
       " 'she',\n",
       " \"she's\",\n",
       " 'her',\n",
       " 'hers',\n",
       " 'herself',\n",
       " 'it',\n",
       " \"it's\",\n",
       " 'its',\n",
       " 'itself',\n",
       " 'they',\n",
       " 'them',\n",
       " 'their',\n",
       " 'theirs',\n",
       " 'themselves',\n",
       " 'what',\n",
       " 'which',\n",
       " 'who',\n",
       " 'whom',\n",
       " 'this',\n",
       " 'that',\n",
       " \"that'll\",\n",
       " 'these',\n",
       " 'those',\n",
       " 'am',\n",
       " 'is',\n",
       " 'are',\n",
       " 'was',\n",
       " 'were',\n",
       " 'be',\n",
       " 'been',\n",
       " 'being',\n",
       " 'have',\n",
       " 'has',\n",
       " 'had',\n",
       " 'having',\n",
       " 'do',\n",
       " 'does',\n",
       " 'did',\n",
       " 'doing',\n",
       " 'a',\n",
       " 'an',\n",
       " 'the',\n",
       " 'and',\n",
       " 'but',\n",
       " 'if',\n",
       " 'or',\n",
       " 'because',\n",
       " 'as',\n",
       " 'until',\n",
       " 'while',\n",
       " 'of',\n",
       " 'at',\n",
       " 'by',\n",
       " 'for',\n",
       " 'with',\n",
       " 'about',\n",
       " 'against',\n",
       " 'between',\n",
       " 'into',\n",
       " 'through',\n",
       " 'during',\n",
       " 'before',\n",
       " 'after',\n",
       " 'above',\n",
       " 'below',\n",
       " 'to',\n",
       " 'from',\n",
       " 'up',\n",
       " 'down',\n",
       " 'in',\n",
       " 'out',\n",
       " 'on',\n",
       " 'off',\n",
       " 'over',\n",
       " 'under',\n",
       " 'again',\n",
       " 'further',\n",
       " 'then',\n",
       " 'once',\n",
       " 'here',\n",
       " 'there',\n",
       " 'when',\n",
       " 'where',\n",
       " 'why',\n",
       " 'how',\n",
       " 'all',\n",
       " 'any',\n",
       " 'both',\n",
       " 'each',\n",
       " 'few',\n",
       " 'more',\n",
       " 'most',\n",
       " 'other',\n",
       " 'some',\n",
       " 'such',\n",
       " 'no',\n",
       " 'nor',\n",
       " 'not',\n",
       " 'only',\n",
       " 'own',\n",
       " 'same',\n",
       " 'so',\n",
       " 'than',\n",
       " 'too',\n",
       " 'very',\n",
       " 's',\n",
       " 't',\n",
       " 'can',\n",
       " 'will',\n",
       " 'just',\n",
       " 'don',\n",
       " \"don't\",\n",
       " 'should',\n",
       " \"should've\",\n",
       " 'now',\n",
       " 'd',\n",
       " 'll',\n",
       " 'm',\n",
       " 'o',\n",
       " 're',\n",
       " 've',\n",
       " 'y',\n",
       " 'ain',\n",
       " 'aren',\n",
       " \"aren't\",\n",
       " 'couldn',\n",
       " \"couldn't\",\n",
       " 'didn',\n",
       " \"didn't\",\n",
       " 'doesn',\n",
       " \"doesn't\",\n",
       " 'hadn',\n",
       " \"hadn't\",\n",
       " 'hasn',\n",
       " \"hasn't\",\n",
       " 'haven',\n",
       " \"haven't\",\n",
       " 'isn',\n",
       " \"isn't\",\n",
       " 'ma',\n",
       " 'mightn',\n",
       " \"mightn't\",\n",
       " 'mustn',\n",
       " \"mustn't\",\n",
       " 'needn',\n",
       " \"needn't\",\n",
       " 'shan',\n",
       " \"shan't\",\n",
       " 'shouldn',\n",
       " \"shouldn't\",\n",
       " 'wasn',\n",
       " \"wasn't\",\n",
       " 'weren',\n",
       " \"weren't\",\n",
       " 'won',\n",
       " \"won't\",\n",
       " 'wouldn',\n",
       " \"wouldn't\"]"
      ]
     },
     "execution_count": 20,
     "metadata": {},
     "output_type": "execute_result"
    }
   ],
   "source": [
    "import nltk\n",
    "from nltk.corpus import stopwords\n",
    "stopwords = stopwords.words('english')\n",
    "stopwords"
   ]
  },
  {
   "cell_type": "code",
   "execution_count": 21,
   "id": "a4d7e7dd",
   "metadata": {},
   "outputs": [],
   "source": [
    "# Stop words using normal looping + TO DO: REMOVE THIS LATER\n",
    "\n",
    "# for row in data['review']:\n",
    "#     for item in row.split():\n",
    "#         if(item not in stopwords):\n",
    "#             print(item)\n",
    "#             break\n",
    "\n",
    "# Removing stopwords from review columns\n",
    "data['cleanReview'] = data['review'].apply(lambda x: ' '.join([item for item in x.split() if item not in stopwords]))"
   ]
  },
  {
   "cell_type": "code",
   "execution_count": 22,
   "id": "f1db0045",
   "metadata": {},
   "outputs": [
    {
     "data": {
      "text/plain": [
       "0    \"It side effect, I take combination Bystolic 5...\n",
       "0    \"I&#039;ve tried antidepressants years (citalo...\n",
       "Name: cleanReview, dtype: object"
      ]
     },
     "execution_count": 22,
     "metadata": {},
     "output_type": "execute_result"
    }
   ],
   "source": [
    "data['cleanReview'][0]"
   ]
  },
  {
   "cell_type": "code",
   "execution_count": 23,
   "id": "3932a8b0",
   "metadata": {},
   "outputs": [],
   "source": [
    "import string\n",
    "\n",
    "def remove_punctuations(text):\n",
    "    for punctuation in string.punctuation:\n",
    "        text = text.replace(punctuation, '')\n",
    "    return text\n",
    "\n",
    "# Apply to the DF series\n",
    "data['cleanReview'] = data['cleanReview'].apply(remove_punctuations)\n"
   ]
  },
  {
   "cell_type": "code",
   "execution_count": 24,
   "id": "9b18bd96",
   "metadata": {},
   "outputs": [
    {
     "data": {
      "text/plain": [
       "0    It side effect I take combination Bystolic 5 M...\n",
       "1    My son halfway fourth week Intuniv We became c...\n",
       "2    I used take another oral contraceptive 21 pill...\n",
       "3    This first time using form birth control I039m...\n",
       "4    Suboxone completely turned life around I feel ...\n",
       "5    2nd day 5mg started work rock hard erections h...\n",
       "6    He pulled out cummed bit me I took Plan B 26 h...\n",
       "7    Abilify changed life There hope I Zoloft Cloni...\n",
       "8     I Ve nothing problems Keppera  constant shaki...\n",
       "9    I pill many years When doctor changed RX chate...\n",
       "Name: cleanReview, dtype: object"
      ]
     },
     "execution_count": 24,
     "metadata": {},
     "output_type": "execute_result"
    }
   ],
   "source": [
    "# Clean Reviews after removing punctuations\n",
    "data['cleanReview'].head(10)"
   ]
  },
  {
   "cell_type": "code",
   "execution_count": 26,
   "id": "aed5813f",
   "metadata": {},
   "outputs": [
    {
     "name": "stderr",
     "output_type": "stream",
     "text": [
      "/Users/mariarajbhandari/workspace/sentiment-analysis-drug-reviews/.venv/lib/python3.12/site-packages/tqdm/auto.py:21: TqdmWarning: IProgress not found. Please update jupyter and ipywidgets. See https://ipywidgets.readthedocs.io/en/stable/user_install.html\n",
      "  from .autonotebook import tqdm as notebook_tqdm\n"
     ]
    }
   ],
   "source": [
    "# Use a pipeline as a high-level helper\n",
    "from transformers import pipeline\n",
    "\n",
    "pipe = pipeline(\"text-classification\", model=\"cardiffnlp/twitter-roberta-base-sentiment\")"
   ]
  },
  {
   "cell_type": "code",
   "execution_count": 30,
   "id": "2a0f8ac7",
   "metadata": {},
   "outputs": [],
   "source": [
    "# Load model directly\n",
    "from transformers import AutoTokenizer, AutoModelForSequenceClassification\n",
    "\n",
    "tokenizer = AutoTokenizer.from_pretrained(\"cardiffnlp/twitter-roberta-base-sentiment\")\n",
    "model = AutoModelForSequenceClassification.from_pretrained(\"cardiffnlp/twitter-roberta-base-sentiment\")"
   ]
  },
  {
   "cell_type": "code",
   "execution_count": 31,
   "id": "44cfe0f0",
   "metadata": {},
   "outputs": [
    {
     "name": "stdout",
     "output_type": "stream",
     "text": [
      "SequenceClassifierOutput(loss=None, logits=tensor([[-2.3665, -0.7611,  3.9794]], grad_fn=<AddmmBackward0>), hidden_states=None, attentions=None)\n"
     ]
    }
   ],
   "source": [
    "encoded_text = tokenizer('This book is lovely', return_tensors='pt')\n",
    "output = model(**encoded_text)\n",
    "print(output)"
   ]
  },
  {
   "cell_type": "code",
   "execution_count": 34,
   "id": "1a892e0a",
   "metadata": {},
   "outputs": [
    {
     "name": "stdout",
     "output_type": "stream",
     "text": [
      "[0.00173584 0.00864397 0.98962027]\n",
      "{'roberta_neg': np.float32(0.0017358415), 'roberta_neu': np.float32(0.008643969), 'roberta_pos': np.float32(0.98962027)}\n"
     ]
    }
   ],
   "source": [
    "from scipy.special import softmax\n",
    "\n",
    "scores = output[0][0].detach().numpy()\n",
    "scores = softmax(scores)\n",
    "print(scores)\n",
    "\n",
    "scores_dict = {\n",
    "    'roberta_neg' : scores[0],\n",
    "    'roberta_neu': scores[1],\n",
    "    'roberta_pos': scores[2]\n",
    "}\n",
    "print(scores_dict)"
   ]
  },
  {
   "cell_type": "code",
   "execution_count": 43,
   "id": "20983f60",
   "metadata": {},
   "outputs": [],
   "source": [
    "def roberta_scores(text):\n",
    "    encoded_text = tokenizer(text, return_tensors='pt')\n",
    "    output = model(**encoded_text)\n",
    "    scores = output[0][0].detach().numpy()\n",
    "    scores = softmax(scores)\n",
    "    data['roberta_neg'] = scores[0]\n",
    "    data['roberta_neu'] = scores[1]\n",
    "    data['roberta_pos'] = scores[2]"
   ]
  },
  {
   "cell_type": "markdown",
   "id": "f81378df",
   "metadata": {},
   "source": [
    "# NLTK - VADER Sentiment Scoring - Uses Bag of Words (BOW)"
   ]
  },
  {
   "cell_type": "code",
   "execution_count": 35,
   "id": "f482d726",
   "metadata": {},
   "outputs": [],
   "source": [
    "import nltk\n",
    "from nltk.sentiment.vader import SentimentIntensityAnalyzer\n",
    "\n",
    "sia = SentimentIntensityAnalyzer()\n",
    "\n",
    "data = data.head(50000)"
   ]
  },
  {
   "cell_type": "code",
   "execution_count": 36,
   "id": "d5e600a9",
   "metadata": {},
   "outputs": [],
   "source": [
    "data['vaderReviewScore'] = data['cleanReview'].apply(lambda x: sia.polarity_scores(x)['compound'])"
   ]
  },
  {
   "cell_type": "code",
   "execution_count": 39,
   "id": "40c99ffc",
   "metadata": {},
   "outputs": [
    {
     "data": {
      "text/html": [
       "<div>\n",
       "<style scoped>\n",
       "    .dataframe tbody tr th:only-of-type {\n",
       "        vertical-align: middle;\n",
       "    }\n",
       "\n",
       "    .dataframe tbody tr th {\n",
       "        vertical-align: top;\n",
       "    }\n",
       "\n",
       "    .dataframe thead th {\n",
       "        text-align: right;\n",
       "    }\n",
       "</style>\n",
       "<table border=\"1\" class=\"dataframe\">\n",
       "  <thead>\n",
       "    <tr style=\"text-align: right;\">\n",
       "      <th></th>\n",
       "      <th>Id</th>\n",
       "      <th>drugName</th>\n",
       "      <th>condition</th>\n",
       "      <th>review</th>\n",
       "      <th>rating</th>\n",
       "      <th>date</th>\n",
       "      <th>usefulCount</th>\n",
       "      <th>ratingSentimentLabel</th>\n",
       "      <th>cleanReview</th>\n",
       "      <th>vaderReviewScore</th>\n",
       "    </tr>\n",
       "  </thead>\n",
       "  <tbody>\n",
       "    <tr>\n",
       "      <th>0</th>\n",
       "      <td>206461</td>\n",
       "      <td>Valsartan</td>\n",
       "      <td>Left Ventricular Dysfunction</td>\n",
       "      <td>\"It has no side effect, I take it in combinati...</td>\n",
       "      <td>9.0</td>\n",
       "      <td>May 20, 2012</td>\n",
       "      <td>27</td>\n",
       "      <td>positive</td>\n",
       "      <td>It side effect I take combination Bystolic 5 M...</td>\n",
       "      <td>0.0000</td>\n",
       "    </tr>\n",
       "    <tr>\n",
       "      <th>1</th>\n",
       "      <td>95260</td>\n",
       "      <td>Guanfacine</td>\n",
       "      <td>ADHD</td>\n",
       "      <td>\"My son is halfway through his fourth week of ...</td>\n",
       "      <td>8.0</td>\n",
       "      <td>April 27, 2010</td>\n",
       "      <td>192</td>\n",
       "      <td>positive</td>\n",
       "      <td>My son halfway fourth week Intuniv We became c...</td>\n",
       "      <td>0.9068</td>\n",
       "    </tr>\n",
       "    <tr>\n",
       "      <th>2</th>\n",
       "      <td>92703</td>\n",
       "      <td>Lybrel</td>\n",
       "      <td>Birth Control</td>\n",
       "      <td>\"I used to take another oral contraceptive, wh...</td>\n",
       "      <td>5.0</td>\n",
       "      <td>December 14, 2009</td>\n",
       "      <td>17</td>\n",
       "      <td>neutral</td>\n",
       "      <td>I used take another oral contraceptive 21 pill...</td>\n",
       "      <td>0.7096</td>\n",
       "    </tr>\n",
       "    <tr>\n",
       "      <th>3</th>\n",
       "      <td>138000</td>\n",
       "      <td>Ortho Evra</td>\n",
       "      <td>Birth Control</td>\n",
       "      <td>\"This is my first time using any form of birth...</td>\n",
       "      <td>8.0</td>\n",
       "      <td>November 3, 2015</td>\n",
       "      <td>10</td>\n",
       "      <td>positive</td>\n",
       "      <td>This first time using form birth control I039m...</td>\n",
       "      <td>0.7184</td>\n",
       "    </tr>\n",
       "    <tr>\n",
       "      <th>4</th>\n",
       "      <td>35696</td>\n",
       "      <td>Buprenorphine / naloxone</td>\n",
       "      <td>Opiate Dependence</td>\n",
       "      <td>\"Suboxone has completely turned my life around...</td>\n",
       "      <td>9.0</td>\n",
       "      <td>November 27, 2016</td>\n",
       "      <td>37</td>\n",
       "      <td>positive</td>\n",
       "      <td>Suboxone completely turned life around I feel ...</td>\n",
       "      <td>0.9403</td>\n",
       "    </tr>\n",
       "  </tbody>\n",
       "</table>\n",
       "</div>"
      ],
      "text/plain": [
       "       Id                  drugName                     condition  \\\n",
       "0  206461                 Valsartan  Left Ventricular Dysfunction   \n",
       "1   95260                Guanfacine                          ADHD   \n",
       "2   92703                    Lybrel                 Birth Control   \n",
       "3  138000                Ortho Evra                 Birth Control   \n",
       "4   35696  Buprenorphine / naloxone             Opiate Dependence   \n",
       "\n",
       "                                              review  rating  \\\n",
       "0  \"It has no side effect, I take it in combinati...     9.0   \n",
       "1  \"My son is halfway through his fourth week of ...     8.0   \n",
       "2  \"I used to take another oral contraceptive, wh...     5.0   \n",
       "3  \"This is my first time using any form of birth...     8.0   \n",
       "4  \"Suboxone has completely turned my life around...     9.0   \n",
       "\n",
       "                date  usefulCount ratingSentimentLabel  \\\n",
       "0       May 20, 2012           27             positive   \n",
       "1     April 27, 2010          192             positive   \n",
       "2  December 14, 2009           17              neutral   \n",
       "3   November 3, 2015           10             positive   \n",
       "4  November 27, 2016           37             positive   \n",
       "\n",
       "                                         cleanReview  vaderReviewScore  \n",
       "0  It side effect I take combination Bystolic 5 M...            0.0000  \n",
       "1  My son halfway fourth week Intuniv We became c...            0.9068  \n",
       "2  I used take another oral contraceptive 21 pill...            0.7096  \n",
       "3  This first time using form birth control I039m...            0.7184  \n",
       "4  Suboxone completely turned life around I feel ...            0.9403  "
      ]
     },
     "execution_count": 39,
     "metadata": {},
     "output_type": "execute_result"
    }
   ],
   "source": [
    "data.head()"
   ]
  },
  {
   "cell_type": "code",
   "execution_count": 40,
   "id": "4bc5aeb2",
   "metadata": {},
   "outputs": [
    {
     "name": "stdout",
     "output_type": "stream",
     "text": [
      "24095 2422 23480\n"
     ]
    }
   ],
   "source": [
    "totalVaderSentimentCounts = {}\n",
    "\n",
    "totalVaderSentimentCounts['Positive'] = len(data[data['vaderReviewScore'] >= 0.05])\n",
    "totalVaderSentimentCounts['Negative'] = len(data[(data['vaderReviewScore'] > -0.05) & (data['vaderReviewScore'] < 0.05) ])\n",
    "totalVaderSentimentCounts['Neutral'] = len(data[data['vaderReviewScore'] <-0.05])\n",
    "\n",
    "print(totalVaderSentimentCounts['Positive'], totalVaderSentimentCounts['Negative'], totalVaderSentimentCounts['Neutral'])"
   ]
  },
  {
   "cell_type": "code",
   "execution_count": 41,
   "id": "f9e65ee7",
   "metadata": {},
   "outputs": [
    {
     "data": {
      "image/png": "[encoded data removed]",
      "text/plain": [
       "<Figure size 1000x500 with 1 Axes>"
      ]
     },
     "metadata": {},
     "output_type": "display_data"
    }
   ],
   "source": [
    "labels = list(totalVaderSentimentCounts.keys())\n",
    "values = list(totalVaderSentimentCounts.values())\n",
    " \n",
    "fig = plt.figure(figsize = (10, 5))\n",
    "\n",
    "# creating the bar plot\n",
    "plt.bar(labels, values, width = 0.3)\n",
    "plt.title(\"Vader Sentiment Counts\")\n",
    "plt.xlabel(\"Type of sentiment\")\n",
    "plt.show()"
   ]
  },
  {
   "cell_type": "code",
   "execution_count": null,
   "id": "1494317b",
   "metadata": {},
   "outputs": [],
   "source": [
    "data['vaderSentiment'] = data['vaderReviewScore'].map(lambda x: int(2) if x >=0.05  else int(1) if x<=-0.05 else int(0))"
   ]
  },
  {
   "cell_type": "code",
   "execution_count": null,
   "id": "9872c6d0",
   "metadata": {},
   "outputs": [],
   "source": [
    "Total_vaderSentiment = totalSentimentCounts['Positive'] + totalSentimentCounts['Negative'] + totalSentimentCounts['Neutral']\n",
    "Total_vaderSentiment"
   ]
  },
  {
   "cell_type": "code",
   "execution_count": null,
   "id": "87cf3476",
   "metadata": {},
   "outputs": [],
   "source": [
    "data.loc[data['vaderReviewScore'] >=0.05,\"vaderSentimentLabel\"] = \"positive\"\n",
    "data.loc[(data['vaderReviewScore'] >-0.05) & (data['vaderReviewScore']<0.05),\"vaderSentimentLabel\"]= \"neutral\"\n",
    "data.loc[data['vaderReviewScore']<=-0.05,\"vaderSentimentLabel\"] = \"negative\"\n",
    "\n",
    "data.head()"
   ]
  },
  {
   "cell_type": "code",
   "execution_count": null,
   "id": "0873ac65",
   "metadata": {},
   "outputs": [],
   "source": [
    "data.loc[data['rating'] >= 7.0,\"ratingSentimentLabel\"] = \"positive\"\n",
    "data.loc[(data['rating'] >= 5.0) & (data['rating'] <= 7),\"ratingSentimentLabel\"] = \"neutral\"\n",
    "data.loc[data['rating'] <= 3.0,\"ratingSentimentLabel\"] = \"negative\"\n",
    "data.head()"
   ]
  },
  {
   "cell_type": "code",
   "execution_count": null,
   "id": "17cc7500",
   "metadata": {},
   "outputs": [],
   "source": [
    "data.to_csv('reviews_processed.csv')"
   ]
  },
  {
   "cell_type": "code",
   "execution_count": null,
   "id": "2a53cc80",
   "metadata": {},
   "outputs": [],
   "source": [
    "import os\n",
    "os.stat('reviews_processed.csv').st_size         # Check size of csv file About 181MB"
   ]
  },
  {
   "cell_type": "code",
   "execution_count": null,
   "id": "15743854",
   "metadata": {},
   "outputs": [],
   "source": [
    "data.info()"
   ]
  },
  {
   "cell_type": "code",
   "execution_count": null,
   "id": "e993c280",
   "metadata": {},
   "outputs": [],
   "source": [
    "data.to_csv('reviews_processed.csv.gz',compression='gzip')"
   ]
  },
  {
   "cell_type": "code",
   "execution_count": null,
   "id": "50756e20",
   "metadata": {},
   "outputs": [],
   "source": [
    "os.stat('reviews_processed.csv.gz').st_size    #compressed to about 54MB "
   ]
  },
  {
   "cell_type": "code",
   "execution_count": null,
   "id": "c9ce14ca",
   "metadata": {},
   "outputs": [],
   "source": [
    "data.groupby('vaderSentimentLabel').size()"
   ]
  },
  {
   "cell_type": "code",
   "execution_count": null,
   "id": "cfeb765e",
   "metadata": {},
   "outputs": [],
   "source": [
    "data.columns\n",
    "data2 = data[['Id', 'cleanReview', 'rating', 'ratingSentimentLabel', 'vaderReviewScore', 'vaderSentimentLabel', 'vaderSentiment']].copy()    # creating a new dataframe with just review and rating for sentiment analysis\n",
    "data2"
   ]
  },
  {
   "cell_type": "code",
   "execution_count": null,
   "id": "3d8ec054",
   "metadata": {},
   "outputs": [],
   "source": [
    "data2.groupby('ratingSentimentLabel').size()\n",
    "data2.groupby('ratingSentimentLabel').count().plot.bar()\n",
    "plt.show()"
   ]
  },
  {
   "cell_type": "code",
   "execution_count": null,
   "id": "395b750b",
   "metadata": {},
   "outputs": [],
   "source": [
    "data2['ratingSentiment']= data2['rating'].map(lambda x:int(2) if x>=7 else int(1) if x<=3 else int(0) )\n",
    "data2.head()"
   ]
  },
  {
   "cell_type": "code",
   "execution_count": null,
   "id": "f3f1dc9b",
   "metadata": {},
   "outputs": [],
   "source": [
    "data2.groupby('ratingSentiment').size()"
   ]
  },
  {
   "cell_type": "code",
   "execution_count": null,
   "id": "739b6fdf",
   "metadata": {},
   "outputs": [],
   "source": [
    "positive_vader_sentiments = data2[data2.ratingSentiment == 2]\n",
    "positive_string = []\n",
    "for s in positive_vader_sentiments.cleanReview:\n",
    "  positive_string.append(s)\n",
    "positive_string = pd.Series(positive_string).str.cat(sep=' ')"
   ]
  },
  {
   "cell_type": "code",
   "execution_count": null,
   "id": "a4cef88a",
   "metadata": {},
   "outputs": [],
   "source": [
    "!pip install wordcloud"
   ]
  },
  {
   "cell_type": "code",
   "execution_count": null,
   "id": "caf2ae0b",
   "metadata": {},
   "outputs": [],
   "source": [
    "from wordcloud import WordCloud\n",
    "wordcloud = WordCloud(width=2000,height=1000,max_font_size=200).generate(positive_string)\n",
    "plt.imshow(wordcloud,interpolation='bilinear')\n",
    "plt.show()"
   ]
  },
  {
   "cell_type": "code",
   "execution_count": null,
   "id": "a2405b62",
   "metadata": {},
   "outputs": [],
   "source": [
    "from sklearn.feature_extraction.text import TfidfVectorizer\n",
    "\n",
    "tfidf = TfidfVectorizer(stop_words='english',ngram_range=(1,2))\n",
    "features = tfidf.fit_transform(data2.cleanReview)\n",
    "labels   = data2.vaderSentiment\n",
    "data2.head()"
   ]
  },
  {
   "cell_type": "code",
   "execution_count": null,
   "id": "fbb8e699",
   "metadata": {},
   "outputs": [],
   "source": [
    "print(features)"
   ]
  },
  {
   "cell_type": "code",
   "execution_count": null,
   "id": "8872708f",
   "metadata": {},
   "outputs": [],
   "source": [
    "features.shape"
   ]
  },
  {
   "cell_type": "code",
   "execution_count": null,
   "id": "15efcbb6",
   "metadata": {},
   "outputs": [],
   "source": [
    "from sklearn.model_selection import train_test_split\n",
    "from sklearn.naive_bayes import MultinomialNB"
   ]
  },
  {
   "cell_type": "code",
   "execution_count": null,
   "id": "6fafd589",
   "metadata": {},
   "outputs": [],
   "source": [
    "x_train,x_test,y_train,y_test = train_test_split(data2['cleanReview'],data2['ratingSentimentLabel'],random_state=0)"
   ]
  },
  {
   "cell_type": "code",
   "execution_count": null,
   "id": "e2f38967",
   "metadata": {},
   "outputs": [],
   "source": [
    "print(x_train.shape, x_test.shape)"
   ]
  },
  {
   "cell_type": "code",
   "execution_count": null,
   "id": "52821243",
   "metadata": {},
   "outputs": [],
   "source": [
    "from sklearn.linear_model import LogisticRegression\n",
    "from sklearn.ensemble import RandomForestClassifier\n",
    "from sklearn.svm import LinearSVC\n",
    "from sklearn.neighbors import KNeighborsClassifier\n",
    "from sklearn.model_selection import cross_val_score\n",
    "from sklearn.preprocessing import StandardScaler"
   ]
  },
  {
   "cell_type": "code",
   "execution_count": null,
   "id": "158bdaef",
   "metadata": {},
   "outputs": [],
   "source": [
    "models = [\n",
    "  RandomForestClassifier(n_estimators=200,max_depth=3,random_state=0),\n",
    "  LinearSVC(),\n",
    "  MultinomialNB(),\n",
    "  LogisticRegression(random_state=0,solver='lbfgs',max_iter=2000,multi_class='auto')\n",
    "]\n",
    "CV = 5\n",
    "cv_df = pd.DataFrame(index=range(CV * len(models)))\n",
    "entries = []\n",
    "for model in models:\n",
    "  model_name = model.__class__.__name__\n",
    "  accuracies = cross_val_score(model,features,labels,scoring='accuracy',cv=CV)\n",
    "  for fold_idx,accuracy in enumerate(accuracies):\n",
    "    entries.append((model_name,fold_idx,accuracy))\n",
    "cv_df = pd.DataFrame(entries,columns=['model_name','fold_idx','accuracy'])"
   ]
  },
  {
   "cell_type": "code",
   "execution_count": null,
   "id": "ef4eabbc",
   "metadata": {},
   "outputs": [],
   "source": [
    "cv_df"
   ]
  },
  {
   "cell_type": "code",
   "execution_count": null,
   "id": "251c07bc",
   "metadata": {},
   "outputs": [],
   "source": [
    "cv_df.groupby('model_name').accuracy.mean()"
   ]
  },
  {
   "cell_type": "code",
   "execution_count": null,
   "id": "0b00c410",
   "metadata": {},
   "outputs": [],
   "source": [
    "# from lightgbm import LGBMModel,LGBMClassifier\n",
    "# from sklearn.metrics import confusion_matrix, accuracy_score, classification_report\n",
    "\n",
    "# clf = LGBMClassifier(\n",
    "#         n_estimators=10000,\n",
    "#         learning_rate=0.10,\n",
    "#         num_leaves=30,\n",
    "#         subsample=.9,\n",
    "#         max_depth=7,\n",
    "#         reg_alpha=.1,\n",
    "#         reg_lambda=.1,\n",
    "#         min_split_gain=.01,\n",
    "#         min_child_weight=2,\n",
    "#         silent=-1,\n",
    "#         verbose=-1,\n",
    "# )\n",
    "\n",
    "# model = clf.fit(x_train, y_train)\n",
    "\n",
    "# Predictions\n",
    "# predictions = clf.predict(x_test)\n",
    "# print (\"The Accuracy of the model is : \", accuracy_score(y_test, predictions))\n",
    "# print (\"The confusion Matrix is \")\n",
    "# confusion_matrix(y_test, predictions)\n",
    "\n",
    "# Use a pipeline as a high-level helper\n",
    "\n",
    "# from transformers import pipeline\n",
    "\n",
    "# pipe = pipeline(\"text-classification\", model=\"finiteautomata/bertweet-base-sentiment-analysis\")\n",
    "\n",
    "# # Load model directly\n",
    "# from transformers import AutoTokenizer, AutoModelForSequenceClassification\n",
    "\n",
    "# tokenizer = AutoTokenizer.from_pretrained(\"finiteautomata/bertweet-base-sentiment-analysis\")\n",
    "# model = AutoModelForSequenceClassification.from_pretrained(\"finiteautomata/bertweet-base-sentiment-analysis\")\n",
    "# model.predict(\"Testing is really good!\")"
   ]
  },
  {
   "cell_type": "code",
   "execution_count": null,
   "id": "b4d024e6",
   "metadata": {},
   "outputs": [],
   "source": [
    "from transformers import AutoTokenizer\n",
    "from transformers import AutoModelForSequenceClassification\n",
    "from scipy.special import softmax"
   ]
  },
  {
   "cell_type": "code",
   "execution_count": null,
   "id": "bcda6376",
   "metadata": {},
   "outputs": [],
   "source": [
    "MODEL = f\"cardiffnlp/twitter-roberta-base-sentiment\"\n",
    "tokenizer = AutoTokenizer.from_pretrained(MODEL)\n",
    "model = AutoModelForSequenceClassification.from_pretrained(MODEL)"
   ]
  },
  {
   "cell_type": "code",
   "execution_count": null,
   "id": "38ad4712",
   "metadata": {},
   "outputs": [],
   "source": []
  },
  {
   "cell_type": "code",
   "execution_count": null,
   "id": "ab2c75fa",
   "metadata": {},
   "outputs": [],
   "source": [
    "# from tqdm.notebook import tqdm\n",
    "\n",
    "# res = {}\n",
    "\n",
    "# for index, row in tqdm(data.iterrows(), total=len(data)):\n",
    "#     res[index] = sia.polarity_scores(row['review'])"
   ]
  },
  {
   "cell_type": "code",
   "execution_count": null,
   "id": "da2a998d",
   "metadata": {},
   "outputs": [],
   "source": [
    "# vaderResults = pd.DataFrame(res)\n",
    "\n",
    "# vaderResults = vaderResults.T\n",
    "\n",
    "# vaderResults = vaderResults.reset_index().rename(columns={\n",
    "#     'index' : 'Id'\n",
    "# })\n",
    "\n",
    "# # Final Dataset with vader polarity scores\n",
    "# data = data.merge(vaderResults, how='left')\n",
    "\n",
    "# data.head()\n"
   ]
  },
  {
   "cell_type": "code",
   "execution_count": null,
   "id": "966b6999",
   "metadata": {},
   "outputs": [],
   "source": [
    "# from tqdm.notebook import tqdm\n",
    "\n",
    "# for i, row in tqdm(data.iterrows(), total=len(data)):\n",
    "#     reviewText = row['review']\n",
    "#     vader_sentiments = sia.polarity_scores(reviewText)\n",
    "    \n",
    "#     # Vader sentiment polarity\n",
    "#     data['vader_neg'] = vader_sentiments['neg']\n",
    "#     data['vader_neu'] = vader_sentiments['neu']\n",
    "#     data['vader_pos'] = vader_sentiments['pos']\n",
    "#     data['vader_compound'] = vader_sentiments['compound']"
   ]
  },
  {
   "cell_type": "code",
   "execution_count": null,
   "id": "1058ddf6",
   "metadata": {},
   "outputs": [],
   "source": [
    "import seaborn as sns\n",
    "\n",
    "ax = sns.barplot(data=data2, x = 'rating', y = 'vaderReviewScore')\n",
    "ax.set_xlabel('Ratings')\n",
    "plt.show()"
   ]
  },
  {
   "cell_type": "code",
   "execution_count": null,
   "id": "2687117b",
   "metadata": {},
   "outputs": [],
   "source": [
    "# fig, axs = plt.subplots(1,3, figsize=(15,3))\n",
    "# sns.barplot(data=data, x = 'rating', y = 'pos', ax=axs[0])\n",
    "# sns.barplot(data=data, x = 'rating', y = 'neu', ax=axs[1])\n",
    "# sns.barplot(data=data, x = 'rating', y = 'neg', ax=axs[2])\n",
    "# axs[0].set_title('Positive')\n",
    "# axs[1].set_title('Neutral')\n",
    "# axs[2].set_title('Negative')\n",
    "# plt.show()"
   ]
  },
  {
   "cell_type": "code",
   "execution_count": null,
   "id": "18d1ac1f-2003-409c-b8e5-d6be81c188ba",
   "metadata": {},
   "outputs": [],
   "source": [
    "# Text Tokenization and Cleaning\n",
    "# import re\n",
    "# from nltk.corpus import stopwords\n",
    "# from nltk.tokenize import word_tokenize\n",
    "from sklearn.feature_extraction.text import TfidfVectorizer\n",
    "from sklearn.linear_model import LogisticRegression\n",
    "from sklearn.metrics import accuracy_score, classification_report\n",
    "\n",
    "# stop_words = set(stopwords.words('english'))\n",
    "\n",
    "# def clean_text(text):\n",
    "#     text = re.sub(r'[^\\w\\s]', '', text)  # remove punctuation\n",
    "#     text = text.lower()  # convert to lowercase\n",
    "#     tokens = word_tokenize(text)  # tokenize text\n",
    "#     filtered_tokens = [word for word in tokens if word not in stop_words]  # remove stopwords\n",
    "#     return ' '.join(filtered_tokens)\n",
    "\n",
    "# data['clean_review'] = data['review'].apply(clean_text)\n",
    "\n",
    "# Feature Engineering\n",
    "tfidf_vectorizer = TfidfVectorizer()\n",
    "X = tfidf_vectorizer.fit_transform(data['clean_review'])\n",
    "y = data['sentiment']"
   ]
  },
  {
   "cell_type": "code",
   "execution_count": null,
   "id": "1321ac11-3c5e-477d-a1a3-45f9b5a2052d",
   "metadata": {},
   "outputs": [],
   "source": [
    "# Splitting the dataset\n",
    "X_train, X_test, y_train, y_test = train_test_split(X, y, test_size=0.2, random_state=42)\n",
    "\n",
    "# Training a Sentiment Classifier\n",
    "classifier = LogisticRegression(max_iter=1000)\n",
    "classifier.fit(X_train, y_train)\n",
    "\n",
    "# Evaluation\n",
    "y_pred = classifier.predict(X_test)\n",
    "accuracy = accuracy_score(y_test, y_pred)\n",
    "print(\"Accuracy:\", accuracy)\n",
    "print(\"Classification Report:\")\n",
    "print(classificati_report(y_test, y_onpred))"
   ]
  },
  {
   "cell_type": "code",
   "execution_count": null,
   "id": "cf8b8bc4-b275-4e32-bc53-cdb87c8a3d85",
   "metadata": {},
   "outputs": [],
   "source": [
    "# Sentiment Analysis\n",
    "data['predicted_sentiment'] = classifier.predict(tfidf_vectorizer.transform(data['clean_review']))\n",
    "\n",
    "# Displaying the results\n",
    "print(data[['review', 'rating', 'sentiment', 'predicted_sentiment']].head(10))"
   ]
  },
  {
   "cell_type": "code",
   "execution_count": null,
   "id": "32c24721",
   "metadata": {},
   "outputs": [],
   "source": []
  }
 ],
 "metadata": {
  "kernelspec": {
   "display_name": "Python 3 (ipykernel)",
   "language": "python",
   "name": "python3"
  },
  "language_info": {
   "codemirror_mode": {
    "name": "ipython",
    "version": 3
   },
   "file_extension": ".py",
   "mimetype": "text/x-python",
   "name": "python",
   "nbconvert_exporter": "python",
   "pygments_lexer": "ipython3",
   "version": "3.12.3"
  }
 },
 "nbformat": 4,
 "nbformat_minor": 5
}
